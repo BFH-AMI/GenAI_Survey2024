{
 "cells": [
  {
   "cell_type": "markdown",
   "source": [
    "# GenAI usage Survey overview and initial cleaning"
   ],
   "metadata": {
    "collapsed": false
   },
   "id": "6845f2034800175"
  },
  {
   "cell_type": "code",
   "outputs": [],
   "source": [
    "import pandas as pd"
   ],
   "metadata": {
    "collapsed": true
   },
   "id": "initial_id",
   "execution_count": null
  },
  {
   "cell_type": "code",
   "outputs": [],
   "source": [
    "from metadata import QUESTION_ID_MAP"
   ],
   "metadata": {
    "collapsed": false
   },
   "id": "10ea41ffb2a782e5",
   "execution_count": null
  },
  {
   "cell_type": "markdown",
   "source": [
    "### Read results"
   ],
   "metadata": {
    "collapsed": false
   },
   "id": "88fd4aeacabcd19f"
  },
  {
   "cell_type": "code",
   "outputs": [],
   "source": [
    "df_orig = pd.read_csv('data/results-survey334734.csv')\n",
    "df = df_orig.copy()\n",
    "print(f\"Number columns: {df.shape[1]}\")\n",
    "print(f\"Number responses: {df.shape[0]}\")\n",
    "print(f\"Number not submitted: {df['Date submitted'].isna().sum()}\")"
   ],
   "metadata": {
    "collapsed": false
   },
   "id": "c4a915b8cfd832b4",
   "execution_count": null
  },
  {
   "cell_type": "markdown",
   "source": [
    "### Remove rows where date submitted is none "
   ],
   "metadata": {
    "collapsed": false
   },
   "id": "2c428b81d36ff87b"
  },
  {
   "cell_type": "code",
   "outputs": [],
   "source": [
    "df = df[df['Date submitted'].notna()]\n",
    "print(f\"New number of responses: {df.shape[0]}\")"
   ],
   "metadata": {
    "collapsed": false
   },
   "id": "95df61693bf94b0",
   "execution_count": null
  },
  {
   "cell_type": "markdown",
   "source": [
    "### Remove not needed columns"
   ],
   "metadata": {
    "collapsed": false
   },
   "id": "36c63e165e98a5c2"
  },
  {
   "cell_type": "code",
   "outputs": [],
   "source": [
    "# Last page is 6 for all, thus can be removed.\n",
    "# Same for consent (all yes)\n",
    "df.drop([\"Date submitted\", \"Last page\", \"Start language\", \n",
    "         \"First, we would like to obtain your consent to complete the survey. Please read the following text and indicate whether you agree to participate and proceed with the survey.       \tI am voluntarily participating in this survey for the BFH Generative AI Lab.  \tI am aware that I will not receive any financial compensation for my participation.  \tThe data from this survey will be used to investigate the use of generative AI in the workplace.  \tI am aware that the survey is anonymous and that no conclusions can be drawn about the participants.  \tNo information will be collected that allows conclusions to be drawn about my identity or my place of work unless I voluntarily provide such information in one of the available comment fields.  \tThe data collected will be used exclusively for publications in the context of this research project and any follow-up projects.  \tI am aware that I cannot be contacted directly to view the final report, as the survey is anonymous.  \tThe contact person for this survey is Yannis Schmutz (yannis.schmutz@bfh.ch).  [I agree]\"\n",
    "         ],\n",
    "        axis=1,\n",
    "        inplace=True)"
   ],
   "metadata": {
    "collapsed": false
   },
   "id": "37ebe906b92c883b",
   "execution_count": null
  },
  {
   "cell_type": "markdown",
   "source": [
    "### Rename questions"
   ],
   "metadata": {
    "collapsed": false
   },
   "id": "3000f6f8f70274bb"
  },
  {
   "cell_type": "code",
   "outputs": [],
   "source": [
    "df = df.rename(columns=QUESTION_ID_MAP)\n",
    "df = df.rename(columns={'Response ID': 'resp_id'})"
   ],
   "metadata": {
    "collapsed": false
   },
   "id": "43e65493249fd0b",
   "execution_count": null
  },
  {
   "cell_type": "code",
   "outputs": [],
   "source": [
    "df.head(2)"
   ],
   "metadata": {
    "collapsed": false
   },
   "id": "ce4b948ce7daa67f",
   "execution_count": null
  },
  {
   "cell_type": "code",
   "outputs": [],
   "source": [
    "df.set_index('resp_id')"
   ],
   "metadata": {
    "collapsed": false
   },
   "id": "61db5351116ed514",
   "execution_count": null
  },
  {
   "cell_type": "code",
   "outputs": [],
   "source": [
    "df.head(2)"
   ],
   "metadata": {
    "collapsed": false
   },
   "id": "1d1072196b870268",
   "execution_count": null
  },
  {
   "cell_type": "markdown",
   "source": [
    "### Remove students that don't have an employer"
   ],
   "metadata": {
    "collapsed": false
   },
   "id": "44e7ba6c83abee61"
  },
  {
   "cell_type": "code",
   "outputs": [],
   "source": [
    "df = df[~(((df.Q10 == \"I’m not employed\") | df.Q10.isna()) & (df.Q5 == \"Student\"))]\n",
    "df.shape"
   ],
   "metadata": {
    "collapsed": false
   },
   "id": "68282233c6d3ff4e",
   "execution_count": null
  },
  {
   "cell_type": "markdown",
   "source": [
    "## Nan value overview per column"
   ],
   "metadata": {
    "collapsed": false
   },
   "id": "dae6130e60939884"
  },
  {
   "cell_type": "code",
   "outputs": [],
   "source": [
    "nans_per_col = df.isna().sum()\n",
    "print(nans_per_col)"
   ],
   "metadata": {
    "collapsed": false
   },
   "id": "e8107c74ee005a13",
   "execution_count": null
  },
  {
   "cell_type": "markdown",
   "source": [
    "## Save base cleaned version"
   ],
   "metadata": {
    "collapsed": false
   },
   "id": "ad4cb1a36c39d75d"
  },
  {
   "cell_type": "code",
   "outputs": [],
   "source": [
    "df.to_csv('data/base1.csv', index=False)"
   ],
   "metadata": {
    "collapsed": false
   },
   "id": "6ef4b75e8cb2a6a0",
   "execution_count": null
  },
  {
   "cell_type": "code",
   "outputs": [],
   "source": [],
   "metadata": {
    "collapsed": false
   },
   "id": "9a9901e87fd11cf1"
  }
 ],
 "metadata": {
  "kernelspec": {
   "display_name": "Python 3",
   "language": "python",
   "name": "python3"
  },
  "language_info": {
   "codemirror_mode": {
    "name": "ipython",
    "version": 2
   },
   "file_extension": ".py",
   "mimetype": "text/x-python",
   "name": "python",
   "nbconvert_exporter": "python",
   "pygments_lexer": "ipython2",
   "version": "2.7.6"
  }
 },
 "nbformat": 4,
 "nbformat_minor": 5
}
