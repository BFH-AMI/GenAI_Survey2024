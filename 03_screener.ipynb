{
 "cells": [
  {
   "cell_type": "markdown",
   "source": [
    "# Screener"
   ],
   "metadata": {
    "collapsed": false
   },
   "id": "90f89ecc528f0c78"
  },
  {
   "cell_type": "code",
   "outputs": [],
   "source": [
    "import pandas as pd"
   ],
   "metadata": {
    "collapsed": false
   },
   "id": "5aabc13c9cd61ba4",
   "execution_count": null
  },
  {
   "cell_type": "code",
   "outputs": [],
   "source": [
    "from metadata import QUESTION_ID_MAP, ID_QUESTION_MAP\n",
    "from plotting import plot_single_cat"
   ],
   "metadata": {
    "collapsed": false
   },
   "id": "b6e7600a1b92a5a9",
   "execution_count": null
  },
  {
   "cell_type": "code",
   "outputs": [],
   "source": [
    "%load_ext autoreload\n",
    "%autoreload 2"
   ],
   "metadata": {
    "collapsed": false
   },
   "id": "6b07bcd328897477",
   "execution_count": null
  },
  {
   "cell_type": "code",
   "outputs": [],
   "source": [
    "df = pd.read_csv('data/base1.csv', index_col='resp_id')\n",
    "start_id = 7\n",
    "end_id = 10\n",
    "df = df[df.columns[start_id:end_id]]\n",
    "df.head()"
   ],
   "metadata": {
    "collapsed": false
   },
   "id": "7ccbabeb2b381efa",
   "execution_count": null
  },
  {
   "cell_type": "code",
   "outputs": [],
   "source": [
    "for i,q in enumerate(list(QUESTION_ID_MAP.keys())[start_id:end_id]):\n",
    "    print(f\"Q{i+1+start_id}: {q}\")"
   ],
   "metadata": {
    "collapsed": false
   },
   "id": "3cec95167aa806b2",
   "execution_count": null
  },
  {
   "cell_type": "markdown",
   "source": [
    "### Q8 + Q9: Which economic sector best describes your company? + Other"
   ],
   "metadata": {
    "collapsed": false
   },
   "id": "c68cd9a424a4af87"
  },
  {
   "cell_type": "code",
   "outputs": [],
   "source": [
    "orig_q = df.Q8.copy()\n",
    "other_q = df.Q9.copy()\n",
    "combined_q = orig_q.copy()\n",
    "\n",
    "print(len(other_q[~other_q.isna()]))\n",
    "for other in other_q[~other_q.isna()]:\n",
    "    print(other)\n",
    "    \n",
    "# TODO: Manually include those others?\n",
    "\n",
    "plot_single_cat(df['Q8'], drop_nans=True, custom_order=None, ticks_rotation=0, horizontally=True, save_path=\"figures/q8_q9.png\")"
   ],
   "metadata": {
    "collapsed": false
   },
   "id": "2a53abddcf5f19b6",
   "execution_count": null
  },
  {
   "cell_type": "markdown",
   "source": [
    "### Q10: How large is the company you work at?"
   ],
   "metadata": {
    "collapsed": false
   },
   "id": "7051b217a728ddb0"
  },
  {
   "cell_type": "code",
   "outputs": [],
   "source": [
    "plot_single_cat(df['Q10'], drop_nans=True, custom_order=[5,4,0,3,2,1,6], ticks_rotation=90, horizontally=True, save_path=\"figures/q10.png\")"
   ],
   "metadata": {
    "collapsed": false
   },
   "id": "75a64ac555b7ac8e",
   "execution_count": null
  },
  {
   "cell_type": "code",
   "outputs": [],
   "source": [],
   "metadata": {
    "collapsed": false
   },
   "id": "b402e956d27c3707",
   "execution_count": null
  },
  {
   "cell_type": "code",
   "outputs": [],
   "source": [],
   "metadata": {
    "collapsed": false
   },
   "id": "ae389394bad5125",
   "execution_count": null
  },
  {
   "cell_type": "markdown",
   "source": [
    "# Output for table / paper"
   ],
   "metadata": {
    "collapsed": false
   },
   "id": "b404f8f433959850"
  },
  {
   "cell_type": "code",
   "outputs": [],
   "source": [
    "def print_table_info(series, custom_order=None):\n",
    "    val_counts = series.value_counts(sort=False, dropna=False)\n",
    "    unique_answer_labels = val_counts.index.tolist()\n",
    "    unique_answer_labels = [str(ele) for ele in unique_answer_labels]\n",
    "    nbr_answered = val_counts.values.tolist()\n",
    "    \n",
    "    if custom_order:\n",
    "        zipped = zip(unique_answer_labels, nbr_answered, custom_order)\n",
    "        sorted_vals = sorted(zipped, key=lambda x: x[2])\n",
    "        unique_answer_labels = [ele[0] for ele in sorted_vals]\n",
    "        nbr_answered = [ele[1] for ele in sorted_vals]  \n",
    "    \n",
    "    percentages = [round((x/len(series))*100, 1) for x in nbr_answered]\n",
    "    \n",
    "    to_print = sorted(zip(unique_answer_labels,\n",
    "                          nbr_answered,\n",
    "                          percentages\n",
    "                          ), key=lambda x: x[1], reverse=True)\n",
    "    for p in to_print:\n",
    "        print(p[0], p[1], p[2])\n",
    "    print('-'*20)\n",
    "    "
   ],
   "metadata": {
    "collapsed": false
   },
   "id": "97a7132cd0853407",
   "execution_count": null
  },
  {
   "cell_type": "code",
   "outputs": [],
   "source": [
    "print(ID_QUESTION_MAP['Q8'])\n",
    "print_table_info(df.Q8, custom_order=[12] + list(range(12)))\n",
    "\n",
    "\n",
    "print(ID_QUESTION_MAP['Q10'])\n",
    "print_table_info(df.Q10, custom_order=[8,5,4,0,3,2,1,7,6])"
   ],
   "metadata": {
    "collapsed": false
   },
   "id": "29bb2f5ec84a53a1",
   "execution_count": null
  },
  {
   "cell_type": "code",
   "outputs": [],
   "source": [],
   "metadata": {
    "collapsed": false
   },
   "id": "ffb59530e8a0e0d7",
   "execution_count": null
  },
  {
   "cell_type": "code",
   "outputs": [],
   "source": [],
   "metadata": {
    "collapsed": false
   },
   "id": "7ab29d3535818a4f"
  }
 ],
 "metadata": {
  "kernelspec": {
   "display_name": "Python 3",
   "language": "python",
   "name": "python3"
  },
  "language_info": {
   "codemirror_mode": {
    "name": "ipython",
    "version": 2
   },
   "file_extension": ".py",
   "mimetype": "text/x-python",
   "name": "python",
   "nbconvert_exporter": "python",
   "pygments_lexer": "ipython2",
   "version": "2.7.6"
  }
 },
 "nbformat": 4,
 "nbformat_minor": 5
}
