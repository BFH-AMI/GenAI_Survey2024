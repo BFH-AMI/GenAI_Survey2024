{
 "cells": [
  {
   "cell_type": "markdown",
   "source": [
    "# Workplace"
   ],
   "metadata": {
    "collapsed": false
   },
   "id": "3db72334367e023a"
  },
  {
   "cell_type": "code",
   "outputs": [],
   "source": [
    "import pandas as pd"
   ],
   "metadata": {
    "collapsed": false
   },
   "id": "a6efb554ceba231d",
   "execution_count": null
  },
  {
   "cell_type": "code",
   "outputs": [],
   "source": [
    "from metadata import QUESTION_ID_MAP\n",
    "from plotting import plot_single_cat, plot_multi_cat"
   ],
   "metadata": {
    "collapsed": false
   },
   "id": "afd39cddc4355b93",
   "execution_count": null
  },
  {
   "cell_type": "code",
   "outputs": [],
   "source": [
    "%load_ext autoreload\n",
    "%autoreload 2"
   ],
   "metadata": {
    "collapsed": false
   },
   "id": "e80ce7ff4efdef36",
   "execution_count": null
  },
  {
   "cell_type": "code",
   "outputs": [],
   "source": [
    "df = pd.read_csv('data/base1.csv', index_col='resp_id')\n",
    "start_id = 10\n",
    "end_id = 23\n",
    "df = df[df.columns[start_id:end_id]]\n",
    "df.head()"
   ],
   "metadata": {
    "collapsed": false
   },
   "id": "f72fb4d006918a67",
   "execution_count": null
  },
  {
   "cell_type": "code",
   "outputs": [],
   "source": [
    "for i,q in enumerate(list(QUESTION_ID_MAP.keys())[start_id:end_id]):\n",
    "    print(f\"Q{i+1+start_id}: {q}\")"
   ],
   "metadata": {
    "collapsed": false
   },
   "id": "a82d74f957402e81",
   "execution_count": null
  },
  {
   "cell_type": "markdown",
   "source": [
    "### Q11 + Q12: How often do you use generative AI tools (e.g. ChatGPT) at work? + Other"
   ],
   "metadata": {
    "collapsed": false
   },
   "id": "edf9023a02e3f90d"
  },
  {
   "cell_type": "code",
   "outputs": [],
   "source": [
    "orig_q = df.Q11.copy()\n",
    "other_q = df.Q12.copy()\n",
    "combined_q = orig_q.copy()\n",
    "\n",
    "# All none\n",
    "print(len(other_q[~other_q.isna()]))\n",
    "\n",
    "plot_single_cat(df['Q11'], drop_nans=True, custom_order=[0,2,3,4,1], ticks_rotation=0, horizontally=False, save_path=\"figures/q11_q12.png\")"
   ],
   "metadata": {
    "collapsed": false
   },
   "id": "69a8652d50add93d",
   "execution_count": null
  },
  {
   "cell_type": "markdown",
   "source": [
    "### Q13 - Q21: For what purposes do you primarily use generative AI tools at work? (Select all that apply)"
   ],
   "metadata": {
    "collapsed": false
   },
   "id": "19c191def271009c"
  },
  {
   "cell_type": "code",
   "outputs": [],
   "source": [
    "multi_cat_df = pd.DataFrame(data={\n",
    "    'no_use': df.Q13,\n",
    "    'content_creation': df.Q14,\n",
    "    'translation': df.Q15,\n",
    "    'design': df.Q16,\n",
    "    'coding': df.Q17,\n",
    "    'research_assistance': df.Q18,\n",
    "    'increase_efficiency': df.Q19,\n",
    "    'inspiration': df.Q20,\n",
    "    'other': df.Q21\n",
    "})\n",
    "multi_cat_df"
   ],
   "metadata": {
    "collapsed": false
   },
   "id": "98e26c5a1b87d440",
   "execution_count": null
  },
  {
   "cell_type": "code",
   "outputs": [],
   "source": [
    "labels = [\n",
    "    'No usage\\nat work',\n",
    "    'Content\\ncreation,\\nwriting',\n",
    "    'Translation',\n",
    "    'Design',\n",
    "    'Coding',\n",
    "    'Research\\nassistance,\\nlearning',\n",
    "    'Increase\\nefficiency',\n",
    "    'Inspiration\\ncreativity',\n",
    "    'Other'\n",
    "]\n",
    "\n",
    "\n",
    "yes_counts = [\n",
    "    int(multi_cat_df[multi_cat_df.no_use == \"Yes\"].no_use.count()),\n",
    "    int(multi_cat_df[multi_cat_df.content_creation == \"Yes\"].content_creation.count()),\n",
    "    int(multi_cat_df[multi_cat_df.translation == \"Yes\"].translation.count()),\n",
    "    int(multi_cat_df[multi_cat_df.design == \"Yes\"].design.count()),\n",
    "    int(multi_cat_df[multi_cat_df.coding == \"Yes\"].coding.count()),\n",
    "    int(multi_cat_df[multi_cat_df.research_assistance == \"Yes\"].research_assistance.count()),\n",
    "    int(multi_cat_df[multi_cat_df.increase_efficiency == \"Yes\"].increase_efficiency.count()),\n",
    "    int(multi_cat_df[multi_cat_df.inspiration == \"Yes\"].inspiration.count()),\n",
    "    int(multi_cat_df.other[~multi_cat_df.other.isna()].count())\n",
    "]\n",
    "\n",
    "for i in range(len(labels)):\n",
    "    print(f\"{labels[i]}: {yes_counts[i]}\")\n",
    "\n",
    "\n",
    "print(\"\\n\\nOther\")\n",
    "for o in multi_cat_df.other[~multi_cat_df.other.isna()]:\n",
    "    print(o)\n",
    "\n",
    "# multi_cat_series = pd.Series"
   ],
   "metadata": {
    "collapsed": false
   },
   "id": "1682cd7aa3d331e3",
   "execution_count": null
  },
  {
   "cell_type": "code",
   "outputs": [],
   "source": [
    "plot_multi_cat(labels, yes_counts, total_answers=len(df), ticks_rotation=0, save_path=\"figures/q13_q21.png\", figsize=(10, 7))"
   ],
   "metadata": {
    "collapsed": false
   },
   "id": "7216ebf16aea88fd",
   "execution_count": null
  },
  {
   "cell_type": "markdown",
   "source": [
    "### Q22 + Q23: Do you feel encouraged by your employer to use generative AI tools? + Others"
   ],
   "metadata": {
    "collapsed": false
   },
   "id": "1b7e190cb8a35c38"
  },
  {
   "cell_type": "code",
   "outputs": [],
   "source": [
    "orig_q = df.Q22.copy()\n",
    "other_q = df.Q23.copy()\n",
    "combined_q = orig_q.copy()\n",
    "\n",
    "print(len(other_q[~other_q.isna()]))\n",
    "for other in other_q[~other_q.isna()]:\n",
    "    print(other)"
   ],
   "metadata": {
    "collapsed": false
   },
   "id": "1e61f44ba725258c",
   "execution_count": null
  },
  {
   "cell_type": "code",
   "outputs": [],
   "source": [
    "plot_single_cat(df['Q22'], drop_nans=True, custom_order=None, ticks_rotation=0, horizontally=False, save_path=\"figures/q22_q23.png\")"
   ],
   "metadata": {
    "collapsed": false
   },
   "id": "3c37a8486d1e1a39",
   "execution_count": null
  },
  {
   "cell_type": "code",
   "outputs": [],
   "source": [],
   "metadata": {
    "collapsed": false
   },
   "id": "2e08156c00d48e68"
  }
 ],
 "metadata": {
  "kernelspec": {
   "display_name": "Python 3",
   "language": "python",
   "name": "python3"
  },
  "language_info": {
   "codemirror_mode": {
    "name": "ipython",
    "version": 2
   },
   "file_extension": ".py",
   "mimetype": "text/x-python",
   "name": "python",
   "nbconvert_exporter": "python",
   "pygments_lexer": "ipython2",
   "version": "2.7.6"
  }
 },
 "nbformat": 4,
 "nbformat_minor": 5
}
