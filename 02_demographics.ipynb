{
 "cells": [
  {
   "cell_type": "markdown",
   "source": [
    "# Demographics"
   ],
   "metadata": {
    "collapsed": false
   },
   "id": "437954c211141ff1"
  },
  {
   "cell_type": "code",
   "outputs": [],
   "source": [
    "import pandas as pd"
   ],
   "metadata": {
    "collapsed": false
   },
   "id": "bf5fef0196effbd9",
   "execution_count": null
  },
  {
   "cell_type": "code",
   "outputs": [],
   "source": [
    "from metadata import ID_QUESTION_MAP, QUESTION_ID_MAP\n",
    "from plotting import plot_single_cat"
   ],
   "metadata": {
    "collapsed": false
   },
   "id": "1459aa2ecf1795ea",
   "execution_count": null
  },
  {
   "cell_type": "code",
   "outputs": [],
   "source": [
    "%load_ext autoreload\n",
    "%autoreload 2"
   ],
   "metadata": {
    "collapsed": false
   },
   "id": "afb075a7e509de7",
   "execution_count": null
  },
  {
   "cell_type": "code",
   "outputs": [],
   "source": [
    "df = pd.read_csv('data/base1.csv', index_col='resp_id')\n",
    "start_id = 0\n",
    "end_id = 7\n",
    "df = df[df.columns[start_id:end_id]]\n",
    "df.head()"
   ],
   "metadata": {
    "collapsed": false
   },
   "id": "276a510a89905998",
   "execution_count": null
  },
  {
   "cell_type": "code",
   "outputs": [],
   "source": [
    "for i,q in enumerate(list(QUESTION_ID_MAP.keys())[start_id:end_id]):\n",
    "    print(f\"Q{i+1}: {q}\")"
   ],
   "metadata": {
    "collapsed": false
   },
   "id": "169eb9ef1a79d4ee",
   "execution_count": null
  },
  {
   "cell_type": "markdown",
   "source": [
    "### Q1: Which age group do you belong to?"
   ],
   "metadata": {
    "collapsed": false
   },
   "id": "391c4efe5370aff4"
  },
  {
   "cell_type": "code",
   "outputs": [],
   "source": [
    "print(ID_QUESTION_MAP['Q1'])\n",
    "plot_single_cat(df['Q1'], drop_nans=True, custom_order=[3, 0, 1, 2, 4, 5], ticks_rotation=45, save_path=\"figures/q1.png\")"
   ],
   "metadata": {
    "collapsed": false
   },
   "id": "1757e5323bfa3b3e",
   "execution_count": null
  },
  {
   "cell_type": "markdown",
   "source": [
    "### Q2:  What is your gender identity?"
   ],
   "metadata": {
    "collapsed": false
   },
   "id": "b42c894cfbf49256"
  },
  {
   "cell_type": "code",
   "outputs": [],
   "source": [
    "print(ID_QUESTION_MAP['Q2'])\n",
    "plot_single_cat(df['Q2'], drop_nans=True, custom_order=None, ticks_rotation=45, save_path=\"figures/q2.png\")"
   ],
   "metadata": {
    "collapsed": false
   },
   "id": "727b70799b3adf71",
   "execution_count": null
  },
  {
   "cell_type": "markdown",
   "source": [
    "### Q3 + Q4: In which country are you currently employed? + Other"
   ],
   "metadata": {
    "collapsed": false
   },
   "id": "2ce44d5cda29b63b"
  },
  {
   "cell_type": "code",
   "outputs": [],
   "source": [
    "orig_q = df.Q3.copy()\n",
    "other_q = df.Q4.copy()\n",
    "combined_q = orig_q.copy()\n",
    "\n",
    "combined_q[orig_q == \"Other\"] = other_q[~other_q.isna()]\n",
    "combined_q[combined_q == \"Deutschland\"] = \"Germany\"\n",
    "\n",
    "print(ID_QUESTION_MAP['Q3'])\n",
    "print(ID_QUESTION_MAP['Q4'])\n",
    "plot_single_cat(combined_q, drop_nans=True, custom_order=None, ticks_rotation=45, save_path=\"figures/q3_q4.png\")"
   ],
   "metadata": {
    "collapsed": false
   },
   "id": "4b2708bce04c3d5",
   "execution_count": null
  },
  {
   "cell_type": "markdown",
   "source": [
    "### Q5: Which of the following best describes your current work status?"
   ],
   "metadata": {
    "collapsed": false
   },
   "id": "f1a646c6145f1447"
  },
  {
   "cell_type": "code",
   "outputs": [],
   "source": [
    "print(ID_QUESTION_MAP['Q5'])\n",
    "plot_single_cat(df['Q5'], drop_nans=True, custom_order=None, ticks_rotation=45, save_path=\"figures/q5.png\")"
   ],
   "metadata": {
    "collapsed": false
   },
   "id": "6ab01dc54f39f108",
   "execution_count": null
  },
  {
   "cell_type": "markdown",
   "source": [
    "### Q6 + Q7: Which of the following best represents your highest level of education? + Other"
   ],
   "metadata": {
    "collapsed": false
   },
   "id": "dc32b23c0dfc959c"
  },
  {
   "cell_type": "code",
   "outputs": [],
   "source": [
    "orig_q = df.Q6.copy()\n",
    "other_q = df.Q7.copy()\n",
    "combined_q = orig_q.copy()\n",
    "print(len(other_q[~other_q.isna()]))\n",
    "for other in other_q[~other_q.isna()]:\n",
    "    print(other)\n",
    "    \n",
    "print(ID_QUESTION_MAP['Q6'])\n",
    "print(f\"({ID_QUESTION_MAP['Q7']})\")\n",
    "plot_single_cat(df['Q6'], drop_nans=True, custom_order=[3,2,1,0,4,6,5], ticks_rotation=90, save_path=\"figures/q6_q7.png\")"
   ],
   "metadata": {
    "collapsed": false
   },
   "id": "259fa284dd94cda4",
   "execution_count": null
  },
  {
   "cell_type": "code",
   "outputs": [],
   "source": [],
   "metadata": {
    "collapsed": false
   },
   "id": "2595912e5cbdddd3",
   "execution_count": null
  },
  {
   "cell_type": "markdown",
   "source": [
    "# Output For Table"
   ],
   "metadata": {
    "collapsed": false
   },
   "id": "9b0817d50db0d88"
  },
  {
   "cell_type": "code",
   "outputs": [],
   "source": [
    "def print_table_info(series, custom_order=None):    \n",
    "    val_counts = series.value_counts(sort=False, dropna=False)\n",
    "    unique_answer_labels = val_counts.index.tolist()\n",
    "    unique_answer_labels = [str(ele) for ele in unique_answer_labels]\n",
    "    nbr_answered = val_counts.values.tolist()\n",
    "    \n",
    "    if custom_order:\n",
    "        zipped = zip(unique_answer_labels, nbr_answered, custom_order)\n",
    "        sorted_vals = sorted(zipped, key=lambda x: x[2])\n",
    "        unique_answer_labels = [ele[0] for ele in sorted_vals]\n",
    "        nbr_answered = [ele[1] for ele in sorted_vals]\n",
    "    \n",
    "    percentages = [round((x/len(series))*100, 1) for x in nbr_answered]\n",
    "    \n",
    "    \n",
    "    to_print = sorted(zip(unique_answer_labels,\n",
    "                          nbr_answered,\n",
    "                          percentages\n",
    "                          ), key=lambda x: x[1], reverse=True)\n",
    "    for p in to_print:\n",
    "        print(p[0], p[1], p[2])\n",
    "    print('-'*20)\n",
    "    "
   ],
   "metadata": {
    "collapsed": false
   },
   "id": "68c319084b410780",
   "execution_count": null
  },
  {
   "cell_type": "code",
   "outputs": [],
   "source": [
    "print(ID_QUESTION_MAP['Q1'])\n",
    "print_table_info(df.Q1, custom_order=[3, 0, 1, 2, 6, 4, 5])\n",
    "\n",
    "print(ID_QUESTION_MAP['Q2'])\n",
    "print_table_info(df.Q2, custom_order=[3, 0, 1, 2])\n",
    "\n",
    "\n",
    "print(ID_QUESTION_MAP['Q3']) \n",
    "print_table_info(df.Q3, custom_order=[2, 0, 1])\n",
    "# Q4 would be the others.\n",
    "\n",
    "print(ID_QUESTION_MAP['Q5']) \n",
    "print_table_info(df.Q5, custom_order=[4, 0, 1, 2, 3])\n",
    "\n",
    "print(ID_QUESTION_MAP['Q6']) \n",
    "print_table_info(df.Q6, custom_order=[7,3,2,1,0,4,6,5])"
   ],
   "metadata": {
    "collapsed": false
   },
   "id": "f66d2e0c9ef78704",
   "execution_count": null
  },
  {
   "cell_type": "code",
   "outputs": [],
   "source": [],
   "metadata": {
    "collapsed": false
   },
   "id": "fe791d8f60d2f6fa"
  }
 ],
 "metadata": {
  "kernelspec": {
   "display_name": "Python 3",
   "language": "python",
   "name": "python3"
  },
  "language_info": {
   "codemirror_mode": {
    "name": "ipython",
    "version": 2
   },
   "file_extension": ".py",
   "mimetype": "text/x-python",
   "name": "python",
   "nbconvert_exporter": "python",
   "pygments_lexer": "ipython2",
   "version": "2.7.6"
  }
 },
 "nbformat": 4,
 "nbformat_minor": 5
}
